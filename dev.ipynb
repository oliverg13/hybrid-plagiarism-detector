{
 "cells": [
  {
   "cell_type": "code",
   "execution_count": null,
   "metadata": {},
   "outputs": [],
   "source": [
    "# Standard library imports\n",
    "import os\n",
    "import time\n",
    "\n",
    "# Local imports\n",
    "from utils.general import printt, print_sucess, N_PROCESSES\n",
    "from utils.data_load_extract import (\n",
    "    ensure_directory_exists_and_is_empty,\n",
    "    extract_sources_from_suspicious_xml\n",
    "    )\n",
    "from utils.preprocessing import preprocessing_data\n",
    "from utils.filtering import document_filtering, sentence_filtering\n",
    "from utils.metrics import similarity_computation, evaluate_detection"
   ]
  },
  {
   "cell_type": "code",
   "execution_count": null,
   "metadata": {},
   "outputs": [],
   "source": [
    "reload_sources = True\n",
    "reload_suspicious = True\n",
    "reload_sent_matches = True\n",
    "results_filename = \"data_for_figure_20.txt\"\n",
    "SOURCE_LIMIT = 64\n",
    "SUSPICIOUS_LIMIT = 8\n",
    "THRESHOLD_LIST = [0.65] # [0.4, 0.45, 0.5, 0.55, 0.60, 0.65, 0.70]\n",
    "BETA = 0.5"
   ]
  },
  {
   "cell_type": "code",
   "execution_count": null,
   "metadata": {},
   "outputs": [],
   "source": [
    "# 1. Initial setup (paths and number of processes for parallelization)\n",
    "printt(\"Starting the algorithm...\")\n",
    "# Getting the current directory path and setting up the base path for data.\n",
    "current_dir = os.getcwd()\n",
    "base_data_path = os.path.join(current_dir, \"pan-plagiarism-corpus-2011/external-detection-corpus\")\n",
    "sent_matches_dir = os.path.join(current_dir, \"sent-matches-dir\")\n",
    "# Print the number of processes that will be used for parallel operations.\n",
    "printt(f\"N_PROCESSES: {N_PROCESSES}\")"
   ]
  },
  {
   "cell_type": "code",
   "execution_count": null,
   "metadata": {},
   "outputs": [],
   "source": [
    "# 2. Directory setup\n",
    "printt(\"Setting up directories...\")\n",
    "# Initialize the directories for raw and cleaned versions of both source and suspicious documents.\n",
    "# Set up paths for raw and cleaned source documents.\n",
    "cleaned_source_path = os.path.join(current_dir, \"cleaned-source-documents\")\n",
    "source_path = os.path.join(base_data_path, \"source-document\")\n",
    "# Set up paths for raw and cleaned suspicious documents.\n",
    "cleaned_suspicious_path = os.path.join(current_dir, \"cleaned-suspicious-documents\")\n",
    "suspicious_path = os.path.join(base_data_path, \"suspicious-document\")\n",
    "if reload_sources:\n",
    "    ensure_directory_exists_and_is_empty(cleaned_source_path)\n",
    "if reload_suspicious:\n",
    "    ensure_directory_exists_and_is_empty(cleaned_suspicious_path)\n",
    "if reload_sent_matches:\n",
    "    ensure_directory_exists_and_is_empty(sent_matches_dir)"
   ]
  },
  {
   "cell_type": "code",
   "execution_count": null,
   "metadata": {},
   "outputs": [],
   "source": [
    "# 3. Extract real results from XML files to understand the ground truth of plagiarism references\n",
    "printt(\"Extracting reference results...\")\n",
    "# Extract and store the plagiarism references from the suspicious XML files\n",
    "df_references = extract_sources_from_suspicious_xml(suspicious_path)"
   ]
  },
  {
   "cell_type": "code",
   "execution_count": null,
   "metadata": {},
   "outputs": [],
   "source": [
    "df_references.head()"
   ]
  },
  {
   "cell_type": "code",
   "execution_count": null,
   "metadata": {},
   "outputs": [],
   "source": [
    "# Step 4: Preprocess the raw data to prepare it for the subsequent analysis\n",
    "printt(\"Preprocessing data...\")\n",
    "printt(\"Source documents preprocessing...\")\n",
    "if reload_sources:\n",
    "    preprocessing_data(source_path, cleaned_source_path, SOURCE_LIMIT)\n",
    "printt(\"Suspicious documents preprocessing...\")\n",
    "if reload_suspicious:\n",
    "    preprocessing_data(suspicious_path, cleaned_suspicious_path, SUSPICIOUS_LIMIT)"
   ]
  },
  {
   "cell_type": "code",
   "execution_count": null,
   "metadata": {},
   "outputs": [],
   "source": [
    "# Step 5: Identify potential source documents for each suspicious document\n",
    "printt(\"Filtering documents...\")\n",
    "suspicious_to_sources = document_filtering(cleaned_suspicious_path, cleaned_source_path)"
   ]
  },
  {
   "cell_type": "code",
   "execution_count": null,
   "metadata": {},
   "outputs": [],
   "source": [
    "# Step 6: Filter sentences based on potential plagiarisms\n",
    "printt(\"Filtering sentences...\")\n",
    "if reload_sent_matches:\n",
    "    sentence_filtering(cleaned_suspicious_path, cleaned_source_path, suspicious_to_sources, sent_matches_dir)"
   ]
  },
  {
   "cell_type": "code",
   "execution_count": null,
   "metadata": {},
   "outputs": [],
   "source": [
    "# Step 7: Compute and save similarity scores between suspicious and source sentences\n",
    "printt(\"Processing similarity calculations...\")\n",
    "output_dir = os.path.join(current_dir, \"sentences-detections\")\n",
    "similarity_computation(cleaned_suspicious_path, cleaned_source_path, sent_matches_dir, BETA)"
   ]
  },
  {
   "cell_type": "code",
   "execution_count": null,
   "metadata": {},
   "outputs": [],
   "source": [
    "# TODO: refactor step 8 to work better with step 6 refactored\n",
    "import pandas as pd\n",
    "from tqdm import tqdm \n",
    "from utils.metrics import overlap\n",
    "\n",
    "for THRESHOLD in THRESHOLD_LIST:\n",
    "    printt(f\"{SOURCE_LIMIT=}, {SUSPICIOUS_LIMIT=}, {THRESHOLD=}, {BETA=}\")\n",
    "    sent_matches_filenames = os.listdir(sent_matches_dir)\n",
    "    detected_cases_count = dict()\n",
    "    for sent_matches_filename in sent_matches_filenames:\n",
    "        df = pd.read_parquet(sent_matches_filename)\n",
    "        df = df[df[\"hybrid_similarity\"]>=THRESHOLD]\n",
    "\n",
    "        # 8. Evaluate detections\n",
    "        printt(\"Analysis of detections\")\n",
    "        TP, FP, FN = 0, 0, 0\n",
    "\n",
    "        suspicious_filename = df[\"suspicious_filename\"]\n",
    "        suspicious_offset = df[\"suspicious_offset\"]\n",
    "        suspicious_length = df[\"suspicious_length\"]\n",
    "\n",
    "        source_filename = df[\"source_filename\"]\n",
    "        source_offset = df[\"source_offset\"]\n",
    "        source_length = df[\"source_length\"]\n",
    "\n",
    "        printt(f\"Evaluation of detections of {sent_matches_filename}\")\n",
    "        for idx in tqdm(range(len(df)), unit=\"row\"):\n",
    "            row = df.iloc[idx]\n",
    "\n",
    "            # Filter by filenames\n",
    "            matching_rows = df_references[\n",
    "                (df_references[\"suspicious_filename\"] == suspicious_filename)\n",
    "                & (df_references[\"source_filename\"] == source_filename)\n",
    "                ]\n",
    "            \n",
    "            # Search using overlap function\n",
    "            overlap_found = False\n",
    "            for _, reference in matching_rows.iterrows():\n",
    "                if overlap(\n",
    "                    suspicious_offset,\n",
    "                    suspicious_offset + suspicious_length,\n",
    "                    reference[\"suspicious_offset\"],\n",
    "                    reference[\"suspicious_offset\"] + reference[\"suspicious_length\"],\n",
    "                ) and overlap(\n",
    "                    source_offset,\n",
    "                    source_offset + source_length,\n",
    "                    reference[\"source_offset\"],\n",
    "                    reference[\"source_offset\"] + reference[\"source_length\"],\n",
    "                ):\n",
    "                    overlap_found = True\n",
    "                    break\n",
    "            \n",
    "            if overlap_found:\n",
    "                TP += 1\n",
    "                ref_key = (suspicious_filename, source_filename)  # Use file pair as a unique key\n",
    "                detected_cases_count[ref_key] = detected_cases_count.get(ref_key, 0) + 1\n",
    "            else:\n",
    "                FP += 1\n",
    "S_R sería el conjunto de todas las referencias que fueron detectadas\n",
    "R_S sería el conjunto de todas las detecciones que fueron correctamente detectadas\n"
   ]
  },
  {
   "cell_type": "code",
   "execution_count": null,
   "metadata": {},
   "outputs": [],
   "source": [
    "    for _, reference in matching_rows.iterrows():\n",
    "        if overlap(\n",
    "            suspicious_offset,\n",
    "            suspicious_offset + suspicious_length,\n",
    "            reference[\"suspicious_offset\"],\n",
    "            reference[\"suspicious_offset\"] + reference[\"suspicious_length\"],\n",
    "        ) and overlap(\n",
    "            source_offset,\n",
    "            source_offset + source_length,\n",
    "            reference[\"source_offset\"],\n",
    "            reference[\"source_offset\"] + reference[\"source_length\"],\n",
    "        ):\n",
    "            overlap_found = True\n",
    "            break\n",
    "    if overlap_found:\n",
    "        TP += 1\n",
    "        ref_key = (\n",
    "            suspicious_filename,\n",
    "            source_filename,\n",
    "        )  # Use file pair as a unique key\n",
    "        detected_cases_count[ref_key] = detected_cases_count.get(ref_key, 0) + 1\n",
    "    else:\n",
    "        FP += 1\n",
    "FN = len(df_references) - TP\n",
    "sum_Rs = sum(detected_cases_count.values())\n",
    "abs_SR = len(detected_cases_count)\n",
    "granularity = sum_Rs / abs_SR if abs_SR != 0 else 0\n",
    "# Calculate precision, recall, f1-score, plagdet\n",
    "precision = TP / (TP + FP) if TP + FP != 0 else 0\n",
    "recall = TP / (TP + FN) if TP + FN != 0 else 0\n",
    "f1_score = (\n",
    "    2 * (precision * recall) / (precision + recall)\n",
    "    if precision + recall != 0\n",
    "    else 0\n",
    ")\n",
    "plagdet = f1_score / np.log2(1 + granularity)\n"
   ]
  },
  {
   "cell_type": "code",
   "execution_count": null,
   "metadata": {},
   "outputs": [],
   "source": []
  },
  {
   "cell_type": "code",
   "execution_count": null,
   "metadata": {},
   "outputs": [],
   "source": []
  },
  {
   "cell_type": "code",
   "execution_count": null,
   "metadata": {},
   "outputs": [],
   "source": []
  },
  {
   "cell_type": "code",
   "execution_count": null,
   "metadata": {},
   "outputs": [],
   "source": [
    "if __name__ == \"__main__\":\n",
    "\n",
    "        # 8. Analysis of detections\n",
    "        printt(\"Evaluate detections...\")\n",
    "        precision, recall, f1_score, plagdet = evaluate_detection(\n",
    "            df_plagiarism_references, df_plagiarism_detections\n",
    "        )\n",
    "        print(f\"Precision: {precision:.4f}\")\n",
    "        print(f\"Recall: {recall:.4f}\")\n",
    "        print(f\"F1-Score: {f1_score:.4f}\")\n",
    "        print(f\"Plagdet-Score: {plagdet:.4f}\")\n",
    "\n",
    "        # 9. Save results\n",
    "        printt(f\"Saving results to {results_filename}\")\n",
    "        with open(results_filename, \"a\") as f:\n",
    "            f.write(\n",
    "                f\"{SUSPICIOUS_LIMIT}, {THRESHOLD}, {BETA}, {precision}, {recall}, {f1_score}, {plagdet}\\n\"\n",
    "            )\n",
    "\n",
    "    end_time = time.time()\n",
    "    diff_time = end_time - start_time\n",
    "    print(f\"Time taken for Figure 20 replication: {diff_time:.2f} seconds\")\n",
    "\n",
    "    print_sucess()\n"
   ]
  },
  {
   "cell_type": "code",
   "execution_count": null,
   "metadata": {},
   "outputs": [],
   "source": [
    "        # 8. Analysis of detections\n",
    "        printt(\"Evaluate detections...\")\n",
    "        precision, recall, f1_score, plagdet = evaluate_detection(\n",
    "            df_plagiarism_references, df_plagiarism_detections\n",
    "        )\n",
    "        print(f\"Precision: {precision:.4f}\")\n",
    "        print(f\"Recall: {recall:.4f}\")\n",
    "        print(f\"F1-Score: {f1_score:.4f}\")\n",
    "        print(f\"Plagdet-Score: {plagdet:.4f}\")\n",
    "\n",
    "        # 9. Save results\n",
    "        printt(f\"Saving results to {results_filename}\")\n",
    "        with open(results_filename, \"a\") as f:\n",
    "            f.write(\n",
    "                f\"{SUSPICIOUS_LIMIT}, {THRESHOLD}, {BETA}, {precision}, {recall}, {f1_score}, {plagdet}\\n\"\n",
    "            )\n",
    "\n",
    "    end_time = time.time()\n",
    "    diff_time = end_time - start_time\n",
    "    print(f\"Time taken for Figure 20 replication: {diff_time:.2f} seconds\")\n",
    "\n",
    "    print_sucess()"
   ]
  }
 ],
 "metadata": {
  "kernelspec": {
   "display_name": "venv",
   "language": "python",
   "name": "python3"
  },
  "language_info": {
   "codemirror_mode": {
    "name": "ipython",
    "version": 3
   },
   "file_extension": ".py",
   "mimetype": "text/x-python",
   "name": "python",
   "nbconvert_exporter": "python",
   "pygments_lexer": "ipython3",
   "version": "3.11.5"
  }
 },
 "nbformat": 4,
 "nbformat_minor": 2
}
