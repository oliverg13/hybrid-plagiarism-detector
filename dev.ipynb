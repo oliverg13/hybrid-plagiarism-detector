{
 "cells": [
  {
   "cell_type": "code",
   "execution_count": 2,
   "metadata": {},
   "outputs": [],
   "source": [
    "# Standard library imports\n",
    "import os\n",
    "import time\n",
    "\n",
    "# Local imports\n",
    "from utils.general import printt, print_sucess, N_PROCESSES\n",
    "from utils.data_load_extract import (\n",
    "    ensure_directory_exists_and_is_empty,\n",
    "    extract_sources_from_suspicious_xml\n",
    "    )\n",
    "from utils.preprocessing import preprocessing_data\n",
    "from utils.filtering import document_filtering, sentence_filtering\n",
    "from utils.metrics import similarity_computation, evaluate_detection"
   ]
  },
  {
   "cell_type": "code",
   "execution_count": 3,
   "metadata": {},
   "outputs": [],
   "source": [
    "reload_sources = True\n",
    "reload_suspicious = True\n",
    "reload_sent_matches = True\n",
    "results_filename = \"data_for_figure_20.txt\"\n",
    "SOURCE_LIMIT = 64\n",
    "SUSPICIOUS_LIMIT = 8\n",
    "THRESHOLD_LIST = [0.65] # [0.4, 0.45, 0.5, 0.55, 0.60, 0.65, 0.70]\n",
    "BETA = 0.5"
   ]
  },
  {
   "cell_type": "code",
   "execution_count": 4,
   "metadata": {},
   "outputs": [
    {
     "name": "stdout",
     "output_type": "stream",
     "text": [
      "[22:39:38] Starting the algorithm...\n",
      "[22:39:38] N_PROCESSES: 6\n"
     ]
    }
   ],
   "source": [
    "# 1. Initial setup (paths and number of processes for parallelization)\n",
    "printt(\"Starting the algorithm...\")\n",
    "# Getting the current directory path and setting up the base path for data.\n",
    "current_dir = os.getcwd()\n",
    "base_data_path = os.path.join(current_dir, \"pan-plagiarism-corpus-2011/external-detection-corpus\")\n",
    "sent_matches_dir = os.path.join(current_dir, \"sent-matches-dir\")\n",
    "# Print the number of processes that will be used for parallel operations.\n",
    "printt(f\"N_PROCESSES: {N_PROCESSES}\")"
   ]
  },
  {
   "cell_type": "code",
   "execution_count": 5,
   "metadata": {},
   "outputs": [
    {
     "name": "stdout",
     "output_type": "stream",
     "text": [
      "[22:39:39] Setting up directories...\n"
     ]
    }
   ],
   "source": [
    "# 2. Directory setup\n",
    "printt(\"Setting up directories...\")\n",
    "# Initialize the directories for raw and cleaned versions of both source and suspicious documents.\n",
    "# Set up paths for raw and cleaned source documents.\n",
    "cleaned_source_path = os.path.join(current_dir, \"cleaned-source-documents\")\n",
    "source_path = os.path.join(base_data_path, \"source-document\")\n",
    "# Set up paths for raw and cleaned suspicious documents.\n",
    "cleaned_suspicious_path = os.path.join(current_dir, \"cleaned-suspicious-documents\")\n",
    "suspicious_path = os.path.join(base_data_path, \"suspicious-document\")\n",
    "if reload_sources:\n",
    "    ensure_directory_exists_and_is_empty(cleaned_source_path)\n",
    "if reload_suspicious:\n",
    "    ensure_directory_exists_and_is_empty(cleaned_suspicious_path)\n",
    "if reload_sent_matches:\n",
    "    ensure_directory_exists_and_is_empty(sent_matches_dir)"
   ]
  },
  {
   "cell_type": "code",
   "execution_count": 6,
   "metadata": {},
   "outputs": [
    {
     "name": "stdout",
     "output_type": "stream",
     "text": [
      "[22:39:40] Preprocessing data...\n",
      "[22:39:40] Source documents preprocessing...\n",
      "[22:39:48] Suspicious documents preprocessing...\n"
     ]
    }
   ],
   "source": [
    "# Step 3: Preprocess the raw data to prepare it for the subsequent analysis\n",
    "printt(\"Preprocessing data...\")\n",
    "printt(\"Source documents preprocessing...\")\n",
    "if reload_sources:\n",
    "    preprocessing_data(source_path, cleaned_source_path, SOURCE_LIMIT)\n",
    "printt(\"Suspicious documents preprocessing...\")\n",
    "if reload_suspicious:\n",
    "    preprocessing_data(suspicious_path, cleaned_suspicious_path, SUSPICIOUS_LIMIT)"
   ]
  },
  {
   "cell_type": "code",
   "execution_count": 22,
   "metadata": {},
   "outputs": [
    {
     "name": "stdout",
     "output_type": "stream",
     "text": [
      "[22:45:35] Extracting reference results...\n"
     ]
    },
    {
     "data": {
      "text/html": [
       "<div>\n",
       "<style scoped>\n",
       "    .dataframe tbody tr th:only-of-type {\n",
       "        vertical-align: middle;\n",
       "    }\n",
       "\n",
       "    .dataframe tbody tr th {\n",
       "        vertical-align: top;\n",
       "    }\n",
       "\n",
       "    .dataframe thead th {\n",
       "        text-align: right;\n",
       "    }\n",
       "</style>\n",
       "<table border=\"1\" class=\"dataframe\">\n",
       "  <thead>\n",
       "    <tr style=\"text-align: right;\">\n",
       "      <th></th>\n",
       "      <th>suspicious_filename</th>\n",
       "      <th>source_filename</th>\n",
       "      <th>suspicious_offset</th>\n",
       "      <th>suspicious_length</th>\n",
       "      <th>source_offset</th>\n",
       "      <th>source_length</th>\n",
       "    </tr>\n",
       "  </thead>\n",
       "  <tbody>\n",
       "    <tr>\n",
       "      <th>0</th>\n",
       "      <td>suspicious-document00078.txt</td>\n",
       "      <td>source-document06404.txt</td>\n",
       "      <td>268903</td>\n",
       "      <td>15039</td>\n",
       "      <td>167919</td>\n",
       "      <td>15017</td>\n",
       "    </tr>\n",
       "    <tr>\n",
       "      <th>1</th>\n",
       "      <td>suspicious-document00078.txt</td>\n",
       "      <td>source-document06404.txt</td>\n",
       "      <td>313039</td>\n",
       "      <td>552</td>\n",
       "      <td>7172</td>\n",
       "      <td>521</td>\n",
       "    </tr>\n",
       "    <tr>\n",
       "      <th>2</th>\n",
       "      <td>suspicious-document00093.txt</td>\n",
       "      <td>source-document02877.txt</td>\n",
       "      <td>2395</td>\n",
       "      <td>13396</td>\n",
       "      <td>354337</td>\n",
       "      <td>23735</td>\n",
       "    </tr>\n",
       "    <tr>\n",
       "      <th>3</th>\n",
       "      <td>suspicious-document00093.txt</td>\n",
       "      <td>source-document02877.txt</td>\n",
       "      <td>22982</td>\n",
       "      <td>15535</td>\n",
       "      <td>138124</td>\n",
       "      <td>15734</td>\n",
       "    </tr>\n",
       "    <tr>\n",
       "      <th>4</th>\n",
       "      <td>suspicious-document00093.txt</td>\n",
       "      <td>source-document02877.txt</td>\n",
       "      <td>44528</td>\n",
       "      <td>16805</td>\n",
       "      <td>378789</td>\n",
       "      <td>17017</td>\n",
       "    </tr>\n",
       "    <tr>\n",
       "      <th>5</th>\n",
       "      <td>suspicious-document00093.txt</td>\n",
       "      <td>source-document02877.txt</td>\n",
       "      <td>68504</td>\n",
       "      <td>22452</td>\n",
       "      <td>250193</td>\n",
       "      <td>22345</td>\n",
       "    </tr>\n",
       "    <tr>\n",
       "      <th>6</th>\n",
       "      <td>suspicious-document00093.txt</td>\n",
       "      <td>source-document02877.txt</td>\n",
       "      <td>96213</td>\n",
       "      <td>13548</td>\n",
       "      <td>534879</td>\n",
       "      <td>24865</td>\n",
       "    </tr>\n",
       "    <tr>\n",
       "      <th>7</th>\n",
       "      <td>suspicious-document00093.txt</td>\n",
       "      <td>source-document02877.txt</td>\n",
       "      <td>118528</td>\n",
       "      <td>16600</td>\n",
       "      <td>453690</td>\n",
       "      <td>18224</td>\n",
       "    </tr>\n",
       "    <tr>\n",
       "      <th>8</th>\n",
       "      <td>suspicious-document00093.txt</td>\n",
       "      <td>source-document02877.txt</td>\n",
       "      <td>142890</td>\n",
       "      <td>22091</td>\n",
       "      <td>187020</td>\n",
       "      <td>23072</td>\n",
       "    </tr>\n",
       "    <tr>\n",
       "      <th>9</th>\n",
       "      <td>suspicious-document00093.txt</td>\n",
       "      <td>source-document02877.txt</td>\n",
       "      <td>172234</td>\n",
       "      <td>18897</td>\n",
       "      <td>411167</td>\n",
       "      <td>19941</td>\n",
       "    </tr>\n",
       "    <tr>\n",
       "      <th>10</th>\n",
       "      <td>suspicious-document00093.txt</td>\n",
       "      <td>source-document02877.txt</td>\n",
       "      <td>194427</td>\n",
       "      <td>20236</td>\n",
       "      <td>502025</td>\n",
       "      <td>20954</td>\n",
       "    </tr>\n",
       "    <tr>\n",
       "      <th>11</th>\n",
       "      <td>suspicious-document00093.txt</td>\n",
       "      <td>source-document02877.txt</td>\n",
       "      <td>224458</td>\n",
       "      <td>11503</td>\n",
       "      <td>164054</td>\n",
       "      <td>22473</td>\n",
       "    </tr>\n",
       "    <tr>\n",
       "      <th>12</th>\n",
       "      <td>suspicious-document00093.txt</td>\n",
       "      <td>source-document02877.txt</td>\n",
       "      <td>240670</td>\n",
       "      <td>2299</td>\n",
       "      <td>120783</td>\n",
       "      <td>2448</td>\n",
       "    </tr>\n",
       "    <tr>\n",
       "      <th>13</th>\n",
       "      <td>suspicious-document00093.txt</td>\n",
       "      <td>source-document02877.txt</td>\n",
       "      <td>245727</td>\n",
       "      <td>14423</td>\n",
       "      <td>82468</td>\n",
       "      <td>16067</td>\n",
       "    </tr>\n",
       "    <tr>\n",
       "      <th>14</th>\n",
       "      <td>suspicious-document00093.txt</td>\n",
       "      <td>source-document02877.txt</td>\n",
       "      <td>266584</td>\n",
       "      <td>24387</td>\n",
       "      <td>293539</td>\n",
       "      <td>24845</td>\n",
       "    </tr>\n",
       "    <tr>\n",
       "      <th>15</th>\n",
       "      <td>suspicious-document00093.txt</td>\n",
       "      <td>source-document02877.txt</td>\n",
       "      <td>298899</td>\n",
       "      <td>8539</td>\n",
       "      <td>472189</td>\n",
       "      <td>18291</td>\n",
       "    </tr>\n",
       "    <tr>\n",
       "      <th>16</th>\n",
       "      <td>suspicious-document00093.txt</td>\n",
       "      <td>source-document02877.txt</td>\n",
       "      <td>312261</td>\n",
       "      <td>15913</td>\n",
       "      <td>431941</td>\n",
       "      <td>17022</td>\n",
       "    </tr>\n",
       "    <tr>\n",
       "      <th>17</th>\n",
       "      <td>suspicious-document00093.txt</td>\n",
       "      <td>source-document02877.txt</td>\n",
       "      <td>332060</td>\n",
       "      <td>1580</td>\n",
       "      <td>72162</td>\n",
       "      <td>1683</td>\n",
       "    </tr>\n",
       "    <tr>\n",
       "      <th>18</th>\n",
       "      <td>suspicious-document00093.txt</td>\n",
       "      <td>source-document02877.txt</td>\n",
       "      <td>334084</td>\n",
       "      <td>763</td>\n",
       "      <td>328069</td>\n",
       "      <td>778</td>\n",
       "    </tr>\n",
       "    <tr>\n",
       "      <th>19</th>\n",
       "      <td>suspicious-document00093.txt</td>\n",
       "      <td>source-document02877.txt</td>\n",
       "      <td>335123</td>\n",
       "      <td>259</td>\n",
       "      <td>104806</td>\n",
       "      <td>274</td>\n",
       "    </tr>\n",
       "    <tr>\n",
       "      <th>20</th>\n",
       "      <td>suspicious-document00093.txt</td>\n",
       "      <td>source-document02877.txt</td>\n",
       "      <td>335383</td>\n",
       "      <td>236</td>\n",
       "      <td>137756</td>\n",
       "      <td>265</td>\n",
       "    </tr>\n",
       "    <tr>\n",
       "      <th>21</th>\n",
       "      <td>suspicious-document00252.txt</td>\n",
       "      <td>source-document05112.txt</td>\n",
       "      <td>56</td>\n",
       "      <td>1892</td>\n",
       "      <td>322075</td>\n",
       "      <td>1863</td>\n",
       "    </tr>\n",
       "    <tr>\n",
       "      <th>22</th>\n",
       "      <td>suspicious-document00252.txt</td>\n",
       "      <td>source-document09246.txt</td>\n",
       "      <td>5446</td>\n",
       "      <td>3855</td>\n",
       "      <td>11253</td>\n",
       "      <td>3919</td>\n",
       "    </tr>\n",
       "    <tr>\n",
       "      <th>23</th>\n",
       "      <td>suspicious-document00252.txt</td>\n",
       "      <td>source-document00758.txt</td>\n",
       "      <td>10010</td>\n",
       "      <td>4016</td>\n",
       "      <td>25083</td>\n",
       "      <td>4061</td>\n",
       "    </tr>\n",
       "    <tr>\n",
       "      <th>24</th>\n",
       "      <td>suspicious-document00252.txt</td>\n",
       "      <td>source-document09246.txt</td>\n",
       "      <td>21059</td>\n",
       "      <td>17563</td>\n",
       "      <td>108091</td>\n",
       "      <td>17040</td>\n",
       "    </tr>\n",
       "    <tr>\n",
       "      <th>25</th>\n",
       "      <td>suspicious-document00252.txt</td>\n",
       "      <td>source-document05112.txt</td>\n",
       "      <td>49626</td>\n",
       "      <td>21881</td>\n",
       "      <td>112514</td>\n",
       "      <td>23518</td>\n",
       "    </tr>\n",
       "    <tr>\n",
       "      <th>26</th>\n",
       "      <td>suspicious-document00252.txt</td>\n",
       "      <td>source-document05112.txt</td>\n",
       "      <td>88352</td>\n",
       "      <td>15814</td>\n",
       "      <td>353319</td>\n",
       "      <td>17754</td>\n",
       "    </tr>\n",
       "    <tr>\n",
       "      <th>27</th>\n",
       "      <td>suspicious-document00252.txt</td>\n",
       "      <td>source-document00758.txt</td>\n",
       "      <td>121973</td>\n",
       "      <td>24466</td>\n",
       "      <td>404</td>\n",
       "      <td>21282</td>\n",
       "    </tr>\n",
       "    <tr>\n",
       "      <th>28</th>\n",
       "      <td>suspicious-document00252.txt</td>\n",
       "      <td>source-document09246.txt</td>\n",
       "      <td>158387</td>\n",
       "      <td>13356</td>\n",
       "      <td>56093</td>\n",
       "      <td>16145</td>\n",
       "    </tr>\n",
       "    <tr>\n",
       "      <th>29</th>\n",
       "      <td>suspicious-document00252.txt</td>\n",
       "      <td>source-document09246.txt</td>\n",
       "      <td>176301</td>\n",
       "      <td>17697</td>\n",
       "      <td>22951</td>\n",
       "      <td>18030</td>\n",
       "    </tr>\n",
       "    <tr>\n",
       "      <th>30</th>\n",
       "      <td>suspicious-document00252.txt</td>\n",
       "      <td>source-document05112.txt</td>\n",
       "      <td>210563</td>\n",
       "      <td>16700</td>\n",
       "      <td>330641</td>\n",
       "      <td>15955</td>\n",
       "    </tr>\n",
       "    <tr>\n",
       "      <th>31</th>\n",
       "      <td>suspicious-document00252.txt</td>\n",
       "      <td>source-document09246.txt</td>\n",
       "      <td>231208</td>\n",
       "      <td>4061</td>\n",
       "      <td>101581</td>\n",
       "      <td>4080</td>\n",
       "    </tr>\n",
       "    <tr>\n",
       "      <th>32</th>\n",
       "      <td>suspicious-document00252.txt</td>\n",
       "      <td>source-document05112.txt</td>\n",
       "      <td>248077</td>\n",
       "      <td>25422</td>\n",
       "      <td>177150</td>\n",
       "      <td>22728</td>\n",
       "    </tr>\n",
       "    <tr>\n",
       "      <th>33</th>\n",
       "      <td>suspicious-document00252.txt</td>\n",
       "      <td>source-document09246.txt</td>\n",
       "      <td>278304</td>\n",
       "      <td>2335</td>\n",
       "      <td>1576</td>\n",
       "      <td>2349</td>\n",
       "    </tr>\n",
       "    <tr>\n",
       "      <th>34</th>\n",
       "      <td>suspicious-document00252.txt</td>\n",
       "      <td>source-document05112.txt</td>\n",
       "      <td>282044</td>\n",
       "      <td>21996</td>\n",
       "      <td>199878</td>\n",
       "      <td>20418</td>\n",
       "    </tr>\n",
       "    <tr>\n",
       "      <th>35</th>\n",
       "      <td>suspicious-document00252.txt</td>\n",
       "      <td>source-document00758.txt</td>\n",
       "      <td>317935</td>\n",
       "      <td>3031</td>\n",
       "      <td>21994</td>\n",
       "      <td>3002</td>\n",
       "    </tr>\n",
       "    <tr>\n",
       "      <th>36</th>\n",
       "      <td>suspicious-document00246.txt</td>\n",
       "      <td>source-document09874.txt</td>\n",
       "      <td>1</td>\n",
       "      <td>465</td>\n",
       "      <td>214152</td>\n",
       "      <td>517</td>\n",
       "    </tr>\n",
       "    <tr>\n",
       "      <th>37</th>\n",
       "      <td>suspicious-document00246.txt</td>\n",
       "      <td>source-document09874.txt</td>\n",
       "      <td>1564</td>\n",
       "      <td>2833</td>\n",
       "      <td>53671</td>\n",
       "      <td>3031</td>\n",
       "    </tr>\n",
       "    <tr>\n",
       "      <th>38</th>\n",
       "      <td>suspicious-document00246.txt</td>\n",
       "      <td>source-document09874.txt</td>\n",
       "      <td>8368</td>\n",
       "      <td>2816</td>\n",
       "      <td>140961</td>\n",
       "      <td>2778</td>\n",
       "    </tr>\n",
       "    <tr>\n",
       "      <th>39</th>\n",
       "      <td>suspicious-document00246.txt</td>\n",
       "      <td>source-document09874.txt</td>\n",
       "      <td>11185</td>\n",
       "      <td>2988</td>\n",
       "      <td>48877</td>\n",
       "      <td>2729</td>\n",
       "    </tr>\n",
       "    <tr>\n",
       "      <th>40</th>\n",
       "      <td>suspicious-document00246.txt</td>\n",
       "      <td>source-document09874.txt</td>\n",
       "      <td>16479</td>\n",
       "      <td>1798</td>\n",
       "      <td>277507</td>\n",
       "      <td>2024</td>\n",
       "    </tr>\n",
       "    <tr>\n",
       "      <th>41</th>\n",
       "      <td>suspicious-document00285.txt</td>\n",
       "      <td>source-document05194.txt</td>\n",
       "      <td>1010</td>\n",
       "      <td>3496</td>\n",
       "      <td>175350</td>\n",
       "      <td>3492</td>\n",
       "    </tr>\n",
       "    <tr>\n",
       "      <th>42</th>\n",
       "      <td>suspicious-document00285.txt</td>\n",
       "      <td>source-document05194.txt</td>\n",
       "      <td>5387</td>\n",
       "      <td>3390</td>\n",
       "      <td>123911</td>\n",
       "      <td>3969</td>\n",
       "    </tr>\n",
       "    <tr>\n",
       "      <th>43</th>\n",
       "      <td>suspicious-document00285.txt</td>\n",
       "      <td>source-document05194.txt</td>\n",
       "      <td>9616</td>\n",
       "      <td>483</td>\n",
       "      <td>24758</td>\n",
       "      <td>547</td>\n",
       "    </tr>\n",
       "    <tr>\n",
       "      <th>44</th>\n",
       "      <td>suspicious-document00285.txt</td>\n",
       "      <td>source-document05194.txt</td>\n",
       "      <td>10314</td>\n",
       "      <td>407</td>\n",
       "      <td>12414</td>\n",
       "      <td>514</td>\n",
       "    </tr>\n",
       "  </tbody>\n",
       "</table>\n",
       "</div>"
      ],
      "text/plain": [
       "             suspicious_filename           source_filename  suspicious_offset  \\\n",
       "0   suspicious-document00078.txt  source-document06404.txt             268903   \n",
       "1   suspicious-document00078.txt  source-document06404.txt             313039   \n",
       "2   suspicious-document00093.txt  source-document02877.txt               2395   \n",
       "3   suspicious-document00093.txt  source-document02877.txt              22982   \n",
       "4   suspicious-document00093.txt  source-document02877.txt              44528   \n",
       "5   suspicious-document00093.txt  source-document02877.txt              68504   \n",
       "6   suspicious-document00093.txt  source-document02877.txt              96213   \n",
       "7   suspicious-document00093.txt  source-document02877.txt             118528   \n",
       "8   suspicious-document00093.txt  source-document02877.txt             142890   \n",
       "9   suspicious-document00093.txt  source-document02877.txt             172234   \n",
       "10  suspicious-document00093.txt  source-document02877.txt             194427   \n",
       "11  suspicious-document00093.txt  source-document02877.txt             224458   \n",
       "12  suspicious-document00093.txt  source-document02877.txt             240670   \n",
       "13  suspicious-document00093.txt  source-document02877.txt             245727   \n",
       "14  suspicious-document00093.txt  source-document02877.txt             266584   \n",
       "15  suspicious-document00093.txt  source-document02877.txt             298899   \n",
       "16  suspicious-document00093.txt  source-document02877.txt             312261   \n",
       "17  suspicious-document00093.txt  source-document02877.txt             332060   \n",
       "18  suspicious-document00093.txt  source-document02877.txt             334084   \n",
       "19  suspicious-document00093.txt  source-document02877.txt             335123   \n",
       "20  suspicious-document00093.txt  source-document02877.txt             335383   \n",
       "21  suspicious-document00252.txt  source-document05112.txt                 56   \n",
       "22  suspicious-document00252.txt  source-document09246.txt               5446   \n",
       "23  suspicious-document00252.txt  source-document00758.txt              10010   \n",
       "24  suspicious-document00252.txt  source-document09246.txt              21059   \n",
       "25  suspicious-document00252.txt  source-document05112.txt              49626   \n",
       "26  suspicious-document00252.txt  source-document05112.txt              88352   \n",
       "27  suspicious-document00252.txt  source-document00758.txt             121973   \n",
       "28  suspicious-document00252.txt  source-document09246.txt             158387   \n",
       "29  suspicious-document00252.txt  source-document09246.txt             176301   \n",
       "30  suspicious-document00252.txt  source-document05112.txt             210563   \n",
       "31  suspicious-document00252.txt  source-document09246.txt             231208   \n",
       "32  suspicious-document00252.txt  source-document05112.txt             248077   \n",
       "33  suspicious-document00252.txt  source-document09246.txt             278304   \n",
       "34  suspicious-document00252.txt  source-document05112.txt             282044   \n",
       "35  suspicious-document00252.txt  source-document00758.txt             317935   \n",
       "36  suspicious-document00246.txt  source-document09874.txt                  1   \n",
       "37  suspicious-document00246.txt  source-document09874.txt               1564   \n",
       "38  suspicious-document00246.txt  source-document09874.txt               8368   \n",
       "39  suspicious-document00246.txt  source-document09874.txt              11185   \n",
       "40  suspicious-document00246.txt  source-document09874.txt              16479   \n",
       "41  suspicious-document00285.txt  source-document05194.txt               1010   \n",
       "42  suspicious-document00285.txt  source-document05194.txt               5387   \n",
       "43  suspicious-document00285.txt  source-document05194.txt               9616   \n",
       "44  suspicious-document00285.txt  source-document05194.txt              10314   \n",
       "\n",
       "    suspicious_length  source_offset  source_length  \n",
       "0               15039         167919          15017  \n",
       "1                 552           7172            521  \n",
       "2               13396         354337          23735  \n",
       "3               15535         138124          15734  \n",
       "4               16805         378789          17017  \n",
       "5               22452         250193          22345  \n",
       "6               13548         534879          24865  \n",
       "7               16600         453690          18224  \n",
       "8               22091         187020          23072  \n",
       "9               18897         411167          19941  \n",
       "10              20236         502025          20954  \n",
       "11              11503         164054          22473  \n",
       "12               2299         120783           2448  \n",
       "13              14423          82468          16067  \n",
       "14              24387         293539          24845  \n",
       "15               8539         472189          18291  \n",
       "16              15913         431941          17022  \n",
       "17               1580          72162           1683  \n",
       "18                763         328069            778  \n",
       "19                259         104806            274  \n",
       "20                236         137756            265  \n",
       "21               1892         322075           1863  \n",
       "22               3855          11253           3919  \n",
       "23               4016          25083           4061  \n",
       "24              17563         108091          17040  \n",
       "25              21881         112514          23518  \n",
       "26              15814         353319          17754  \n",
       "27              24466            404          21282  \n",
       "28              13356          56093          16145  \n",
       "29              17697          22951          18030  \n",
       "30              16700         330641          15955  \n",
       "31               4061         101581           4080  \n",
       "32              25422         177150          22728  \n",
       "33               2335           1576           2349  \n",
       "34              21996         199878          20418  \n",
       "35               3031          21994           3002  \n",
       "36                465         214152            517  \n",
       "37               2833          53671           3031  \n",
       "38               2816         140961           2778  \n",
       "39               2988          48877           2729  \n",
       "40               1798         277507           2024  \n",
       "41               3496         175350           3492  \n",
       "42               3390         123911           3969  \n",
       "43                483          24758            547  \n",
       "44                407          12414            514  "
      ]
     },
     "execution_count": 22,
     "metadata": {},
     "output_type": "execute_result"
    }
   ],
   "source": [
    "# 4. Extract real results from XML files to understand the ground truth of plagiarism references\n",
    "printt(\"Extracting reference results...\")\n",
    "# Extract and store the plagiarism references from the suspicious XML files\n",
    "df_references = extract_sources_from_suspicious_xml(suspicious_path)\n",
    "suspicious_filenames = [filename.replace(\"parquet\", \"txt\") for filename in os.listdir(cleaned_suspicious_path)]\n",
    "source_filenames = [filename.replace(\"parquet\", \"txt\") for filename in os.listdir(cleaned_source_path)]\n",
    "df_references = df_references[df_references[\"suspicious_filename\"].isin(suspicious_filenames)].reset_index(drop=True)\n",
    "df_references"
   ]
  },
  {
   "cell_type": "code",
   "execution_count": 23,
   "metadata": {},
   "outputs": [
    {
     "name": "stdout",
     "output_type": "stream",
     "text": [
      "[22:48:35] Filtering documents...\n",
      "[22:48:40] Starting common_tokens_matrix multiplication \n",
      "[22:48:40] Start filter index location of documents\n"
     ]
    }
   ],
   "source": [
    "# Step 5: Identify potential source documents for each suspicious document\n",
    "printt(\"Filtering documents...\")\n",
    "suspicious_to_sources = document_filtering(cleaned_suspicious_path, cleaned_source_path)"
   ]
  },
  {
   "cell_type": "code",
   "execution_count": 24,
   "metadata": {},
   "outputs": [
    {
     "name": "stdout",
     "output_type": "stream",
     "text": [
      "[22:48:42] Filtering sentences...\n",
      "[22:48:42] Fitting vectorizer for sentences filtering\n",
      "[22:48:49] Calculating sparse matrices of sentences from source documents\n"
     ]
    },
    {
     "name": "stderr",
     "output_type": "stream",
     "text": [
      "100%|██████████| 32/32 [00:06<00:00,  4.79it/s]\n"
     ]
    },
    {
     "name": "stdout",
     "output_type": "stream",
     "text": [
      "[22:48:56] Matrix multiplication and matching value index location\n"
     ]
    },
    {
     "name": "stderr",
     "output_type": "stream",
     "text": [
      "100%|██████████| 8/8 [00:20<00:00,  2.59s/it]\n"
     ]
    }
   ],
   "source": [
    "# Step 6: Filter sentences based on potential plagiarisms\n",
    "printt(\"Filtering sentences...\")\n",
    "if reload_sent_matches:\n",
    "    sentence_filtering(cleaned_suspicious_path, cleaned_source_path, suspicious_to_sources, sent_matches_dir)"
   ]
  },
  {
   "cell_type": "code",
   "execution_count": 25,
   "metadata": {},
   "outputs": [
    {
     "name": "stdout",
     "output_type": "stream",
     "text": [
      "[22:49:17] Processing similarity calculations...\n",
      "[22:49:17] Loading FastText\n",
      "[22:49:52] Calculating similarities for sentences of suspicious-document00285.parquet, [1/8]\n"
     ]
    },
    {
     "name": "stderr",
     "output_type": "stream",
     "text": [
      "100%|██████████| 20/20 [00:00<00:00, 410.25it/s]\n"
     ]
    },
    {
     "name": "stdout",
     "output_type": "stream",
     "text": [
      "[22:49:52] Calculating similarities for sentences of suspicious-document00050.parquet, [2/8]\n"
     ]
    },
    {
     "name": "stderr",
     "output_type": "stream",
     "text": [
      "100%|██████████| 823/823 [00:01<00:00, 529.90it/s]\n"
     ]
    },
    {
     "name": "stdout",
     "output_type": "stream",
     "text": [
      "[22:49:53] Calculating similarities for sentences of suspicious-document00246.parquet, [3/8]\n"
     ]
    },
    {
     "name": "stderr",
     "output_type": "stream",
     "text": [
      "100%|██████████| 225/225 [00:00<00:00, 458.54it/s]\n"
     ]
    },
    {
     "name": "stdout",
     "output_type": "stream",
     "text": [
      "[22:49:54] Calculating similarities for sentences of suspicious-document00093.parquet, [4/8]\n"
     ]
    },
    {
     "name": "stderr",
     "output_type": "stream",
     "text": [
      "100%|██████████| 1008/1008 [00:03<00:00, 327.84it/s]\n"
     ]
    },
    {
     "name": "stdout",
     "output_type": "stream",
     "text": [
      "[22:49:57] Calculating similarities for sentences of suspicious-document00291.parquet, [5/8]\n"
     ]
    },
    {
     "name": "stderr",
     "output_type": "stream",
     "text": [
      "100%|██████████| 151/151 [00:00<00:00, 1073.09it/s]\n"
     ]
    },
    {
     "name": "stdout",
     "output_type": "stream",
     "text": [
      "[22:49:57] Calculating similarities for sentences of suspicious-document00044.parquet, [6/8]\n"
     ]
    },
    {
     "name": "stderr",
     "output_type": "stream",
     "text": [
      "100%|██████████| 467/467 [00:02<00:00, 216.19it/s]\n"
     ]
    },
    {
     "name": "stdout",
     "output_type": "stream",
     "text": [
      "[22:49:59] Calculating similarities for sentences of suspicious-document00252.parquet, [7/8]\n"
     ]
    },
    {
     "name": "stderr",
     "output_type": "stream",
     "text": [
      "100%|██████████| 2301/2301 [00:06<00:00, 373.63it/s]\n"
     ]
    },
    {
     "name": "stdout",
     "output_type": "stream",
     "text": [
      "[22:50:05] Calculating similarities for sentences of suspicious-document00078.parquet, [8/8]\n"
     ]
    },
    {
     "name": "stderr",
     "output_type": "stream",
     "text": [
      "100%|██████████| 299/299 [00:00<00:00, 673.44it/s]\n"
     ]
    }
   ],
   "source": [
    "# Step 7: Compute and save similarity scores between suspicious and source sentences\n",
    "printt(\"Processing similarity calculations...\")\n",
    "output_dir = os.path.join(current_dir, \"sentences-detections\")\n",
    "similarity_computation(cleaned_suspicious_path, cleaned_source_path, sent_matches_dir, BETA)"
   ]
  },
  {
   "cell_type": "code",
   "execution_count": 32,
   "metadata": {},
   "outputs": [
    {
     "name": "stdout",
     "output_type": "stream",
     "text": [
      "[23:04:00] SOURCE_LIMIT=64, SUSPICIOUS_LIMIT=8, THRESHOLD=0.65, BETA=0.5\n",
      "[23:04:00] Evaluate detections against ground truth\n",
      "[23:04:00] Evaluate detections of suspicious-document00285.parquet\n"
     ]
    },
    {
     "name": "stderr",
     "output_type": "stream",
     "text": [
      "100%|██████████| 20/20 [00:00<00:00, 3751.61row/s]\n"
     ]
    },
    {
     "name": "stdout",
     "output_type": "stream",
     "text": [
      "[23:04:00] Evaluate detections of suspicious-document00050.parquet\n"
     ]
    },
    {
     "name": "stderr",
     "output_type": "stream",
     "text": [
      "100%|██████████| 811/811 [00:00<00:00, 4377.75row/s]\n"
     ]
    },
    {
     "name": "stdout",
     "output_type": "stream",
     "text": [
      "[23:04:00] Evaluate detections of suspicious-document00246.parquet\n"
     ]
    },
    {
     "name": "stderr",
     "output_type": "stream",
     "text": [
      "100%|██████████| 223/223 [00:00<00:00, 4570.86row/s]\n"
     ]
    },
    {
     "name": "stdout",
     "output_type": "stream",
     "text": [
      "[23:04:00] Evaluate detections of suspicious-document00093.parquet\n"
     ]
    },
    {
     "name": "stderr",
     "output_type": "stream",
     "text": [
      "100%|██████████| 994/994 [00:00<00:00, 4586.50row/s]\n"
     ]
    },
    {
     "name": "stdout",
     "output_type": "stream",
     "text": [
      "[23:04:00] Evaluate detections of suspicious-document00291.parquet\n"
     ]
    },
    {
     "name": "stderr",
     "output_type": "stream",
     "text": [
      "100%|██████████| 144/144 [00:00<00:00, 4516.11row/s]\n"
     ]
    },
    {
     "name": "stdout",
     "output_type": "stream",
     "text": [
      "[23:04:00] Evaluate detections of suspicious-document00044.parquet\n"
     ]
    },
    {
     "name": "stderr",
     "output_type": "stream",
     "text": [
      "100%|██████████| 451/451 [00:00<00:00, 4292.30row/s]\n"
     ]
    },
    {
     "name": "stdout",
     "output_type": "stream",
     "text": [
      "[23:04:00] Evaluate detections of suspicious-document00252.parquet\n"
     ]
    },
    {
     "name": "stderr",
     "output_type": "stream",
     "text": [
      "100%|██████████| 2233/2233 [00:00<00:00, 4528.91row/s]\n"
     ]
    },
    {
     "name": "stdout",
     "output_type": "stream",
     "text": [
      "[23:04:01] Evaluate detections of suspicious-document00078.parquet\n"
     ]
    },
    {
     "name": "stderr",
     "output_type": "stream",
     "text": [
      "100%|██████████| 289/289 [00:00<00:00, 4489.11row/s]"
     ]
    },
    {
     "name": "stdout",
     "output_type": "stream",
     "text": [
      "Precision: 0.0000\n",
      "Recall: 0.0000\n",
      "F1-Score: 0.0000\n",
      "Plagdet-Score: 0.0000\n",
      "[23:04:01] Saving results to data_for_figure_20.txt\n"
     ]
    },
    {
     "name": "stderr",
     "output_type": "stream",
     "text": [
      "\n"
     ]
    }
   ],
   "source": [
    "# TODO: refactor step 8 to work better with step 6 refactored\n",
    "import numpy as np\n",
    "import pandas as pd\n",
    "from tqdm import tqdm \n",
    "from utils.metrics import overlap\n",
    "\n",
    "for THRESHOLD in THRESHOLD_LIST:\n",
    "    printt(f\"{SOURCE_LIMIT=}, {SUSPICIOUS_LIMIT=}, {THRESHOLD=}, {BETA=}\")\n",
    "    sent_matches_filenames = os.listdir(sent_matches_dir)\n",
    "    printt(\"Evaluate detections against ground truth\")\n",
    "    TP, FP = 0, 0 # Initiliaze counting for this threshold value\n",
    "    S_R, R_S = set(), set() # initialize empty sets to calculate granularity and plagdet\n",
    "    for sent_matches_filename in sent_matches_filenames:\n",
    "        sent_matches_filepath = os.path.join(sent_matches_dir, sent_matches_filename)\n",
    "        df = pd.read_parquet(sent_matches_filepath)\n",
    "        df = df[df[\"hybrid_similarity\"]>=THRESHOLD]\n",
    "\n",
    "        \n",
    "        printt(f\"Evaluate detections of {sent_matches_filename}\")\n",
    "        for idx in tqdm(range(len(df)), unit=\"row\"):\n",
    "            row = df.iloc[idx] # select row from df detections\n",
    "            suspicious_filename = row[\"suspicious_filename\"]\n",
    "            suspicious_offset = row[\"suspicious_offset\"]\n",
    "            suspicious_length = row[\"suspicious_length\"]\n",
    "            source_filename = row[\"source_filename\"]\n",
    "            source_offset = row[\"source_offset\"]\n",
    "            source_length = row[\"source_length\"]\n",
    "\n",
    "            # Filter by filenames\n",
    "            matching_rows = df_references[\n",
    "                (df_references[\"suspicious_filename\"] == suspicious_filename)\n",
    "                & (df_references[\"source_filename\"] == source_filename)\n",
    "            ]\n",
    "            \n",
    "            # Search using overlap function\n",
    "            overlap_found = False\n",
    "            for _, reference in matching_rows.iterrows():\n",
    "                if overlap(\n",
    "                    suspicious_offset,\n",
    "                    suspicious_offset + suspicious_length,\n",
    "                    reference[\"suspicious_offset\"],\n",
    "                    reference[\"suspicious_offset\"] + reference[\"suspicious_length\"],\n",
    "                ) and overlap(\n",
    "                    source_offset,\n",
    "                    source_offset + source_length,\n",
    "                    reference[\"source_offset\"],\n",
    "                    reference[\"source_offset\"] + reference[\"source_length\"],\n",
    "                ):\n",
    "                    overlap_found = True\n",
    "                    break\n",
    "            \n",
    "            if overlap_found:\n",
    "                TP += 1\n",
    "                R_S.add(row)\n",
    "                S_R.add(reference)\n",
    "            else:\n",
    "                FP += 1\n",
    "\n",
    "    FN = len(df_references) - TP\n",
    "    granularity = len(R_S) / len(S_R) if len(S_R) != 0 else 1\n",
    "    # Calculate precision, recall, f1-score, plagdet\n",
    "    precision = TP / (TP + FP) if TP + FP != 0 else 0\n",
    "    recall = TP / (TP + FN) if TP + FN != 0 else 0\n",
    "    f1_score = (\n",
    "        2 * (precision * recall) / (precision + recall)\n",
    "        if precision + recall != 0\n",
    "        else 0\n",
    "    )\n",
    "    plagdet = f1_score / np.log2(1 + granularity)\n",
    "\n",
    "    print(f\"Precision: {precision:.4f}\")\n",
    "    print(f\"Recall: {recall:.4f}\")\n",
    "    print(f\"F1-Score: {f1_score:.4f}\")\n",
    "    print(f\"Plagdet-Score: {plagdet:.4f}\")\n",
    "\n",
    "    # 9. Save results\n",
    "    printt(f\"Saving results to {results_filename}\")\n",
    "    with open(results_filename, \"a\") as f:\n",
    "        f.write(f\"{SUSPICIOUS_LIMIT}, {THRESHOLD}, {BETA}, {precision}, {recall}, {f1_score}, {plagdet}\\n\")"
   ]
  },
  {
   "cell_type": "code",
   "execution_count": null,
   "metadata": {},
   "outputs": [],
   "source": [
    "def evaluate_detections_v2():\n",
    "    sent_matches_filenames = os.listdir(sent_matches_dir)\n",
    "    printt(\"Evaluate detections against ground truth\")\n",
    "    TP, FP = 0, 0 # Initiliaze counting for this threshold value\n",
    "    S_R, R_S = set(), set() # initialize empty sets to calculate granularity and plagdet\n",
    "    for sent_matches_filename in sent_matches_filenames:\n",
    "        sent_matches_filepath = os.path.join(sent_matches_dir, sent_matches_filename)\n",
    "        df = pd.read_parquet(sent_matches_filepath)\n",
    "        df = df[df[\"hybrid_similarity\"]>=THRESHOLD]\n",
    "\n",
    "        \n",
    "        printt(f\"Evaluate detections of {sent_matches_filename}\")\n",
    "        for idx in tqdm(range(len(df)), unit=\"row\"):\n",
    "            row = df.iloc[idx] # select row from df detections\n",
    "            suspicious_filename = row[\"suspicious_filename\"]\n",
    "            suspicious_offset = row[\"suspicious_offset\"]\n",
    "            suspicious_length = row[\"suspicious_length\"]\n",
    "            source_filename = row[\"source_filename\"]\n",
    "            source_offset = row[\"source_offset\"]\n",
    "            source_length = row[\"source_length\"]\n",
    "\n",
    "            # Filter by filenames\n",
    "            matching_rows = df_references[\n",
    "                (df_references[\"suspicious_filename\"] == suspicious_filename)\n",
    "                & (df_references[\"source_filename\"] == source_filename)\n",
    "            ]\n",
    "            \n",
    "            # Search using overlap function\n",
    "            overlap_found = False\n",
    "            for _, reference in matching_rows.iterrows():\n",
    "                if overlap(\n",
    "                    suspicious_offset,\n",
    "                    suspicious_offset + suspicious_length,\n",
    "                    reference[\"suspicious_offset\"],\n",
    "                    reference[\"suspicious_offset\"] + reference[\"suspicious_length\"],\n",
    "                ) and overlap(\n",
    "                    source_offset,\n",
    "                    source_offset + source_length,\n",
    "                    reference[\"source_offset\"],\n",
    "                    reference[\"source_offset\"] + reference[\"source_length\"],\n",
    "                ):\n",
    "                    overlap_found = True\n",
    "                    break\n",
    "            \n",
    "            if overlap_found:\n",
    "                TP += 1\n",
    "                R_S.add(row)\n",
    "                S_R.add(reference)\n",
    "            else:\n",
    "                FP += 1\n",
    "\n",
    "    FN = len(df_references) - TP\n",
    "    granularity = len(R_S) / len(S_R) if len(S_R) != 0 else 1\n",
    "    # Calculate precision, recall, f1-score, plagdet\n",
    "    precision = TP / (TP + FP) if TP + FP != 0 else 0\n",
    "    recall = TP / (TP + FN) if TP + FN != 0 else 0\n",
    "    f1_score = (\n",
    "        2 * (precision * recall) / (precision + recall)\n",
    "        if precision + recall != 0\n",
    "        else 0\n",
    "    )\n",
    "    plagdet = f1_score / np.log2(1 + granularity)\n",
    "\n",
    "    return precision, recall, f1_score, plagdet"
   ]
  }
 ],
 "metadata": {
  "kernelspec": {
   "display_name": "venv",
   "language": "python",
   "name": "python3"
  },
  "language_info": {
   "codemirror_mode": {
    "name": "ipython",
    "version": 3
   },
   "file_extension": ".py",
   "mimetype": "text/x-python",
   "name": "python",
   "nbconvert_exporter": "python",
   "pygments_lexer": "ipython3",
   "version": "3.11.5"
  }
 },
 "nbformat": 4,
 "nbformat_minor": 2
}
